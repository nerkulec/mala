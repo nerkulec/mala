{
 "cells": [
  {
   "cell_type": "code",
   "execution_count": 1,
   "metadata": {},
   "outputs": [],
   "source": [
    "# %%\n",
    "from torch.profiler import profile, record_function, ProfilerActivity\n",
    "import torch\n",
    "import total_energy as te\n",
    "from mala.network import TesterGraph\n",
    "from mala import printout\n",
    "import mala\n",
    "import os\n",
    "\n",
    "\n",
    "parameters = mala.Parameters()\n",
    "\n",
    "\n",
    "parameters.data.data_splitting_type = \"by_snapshot\"\n",
    "parameters.data.use_graph_data_set = True\n",
    "\n",
    "# Specify the training parameters.\n",
    "parameters.running.trainingtype = \"Adam\"\n",
    "parameters.running.visualisation = 1\n",
    "parameters.running.visualisation_dir = \"gnn_tests_tensorboard\"\n",
    "\n",
    "\n",
    "parameters.targets.ldos_gridsize = 201\n",
    "parameters.targets.ldos_gridoffset_ev = -13.5\n",
    "parameters.targets.ldos_gridspacing_ev = 0.1\n",
    "parameters.targets.pseudopotential_path = \"/bigdata/casus/wdm/Bartek_H2/H128\"\n",
    "\n",
    "parameters.verbosity = 2\n",
    "\n",
    "parameters.use_gpu = True\n",
    "\n",
    "# ! HYPERPARAMETERS\n",
    "parameters.running.max_number_epochs = 20\n",
    "parameters.running.ldos_grid_batch_size = 30\n",
    "parameters.running.learning_rate = 0.00001\n",
    "\n",
    "parameters.data.n_closest_ldos = 32\n",
    "parameters.data.n_closest_ions = 8\n",
    "\n",
    "# ! HYPERPARAMETERS"
   ]
  },
  {
   "cell_type": "code",
   "execution_count": 2,
   "metadata": {},
   "outputs": [
    {
     "name": "stdout",
     "output_type": "stream",
     "text": [
      "Checking the snapshots and your inputs for consistency.\n",
      "DataHandler prepared for inference. No training possible with this setup. If this is not what you wanted, please revise the input script. Validation snapshots you may have entered willbe ignored.\n",
      "Consistency check successful.\n",
      "Build datasets.\n",
      "Using GraphDataset.\n"
     ]
    },
    {
     "data": {
      "application/vnd.jupyter.widget-view+json": {
       "model_id": "6fa700866777417ea9d8f85e2583b8a6",
       "version_major": 2,
       "version_minor": 0
      },
      "text/plain": [
       "  0%|          | 0/1 [00:00<?, ?it/s]"
      ]
     },
     "metadata": {},
     "output_type": "display_data"
    },
    {
     "name": "stdout",
     "output_type": "stream",
     "text": [
      "Build dataset: Done.\n"
     ]
    }
   ],
   "source": [
    "model_path = \"H2_model_big_01\"\n",
    "parameters, network, data_handler, tester = TesterGraph.load_run(model_path)\n",
    "\n",
    "for i in range(0, 1): # Testing on train snapshots\n",
    "    data_handler.add_snapshot(\n",
    "        f'H_snapshot{i}.pw.scf.in', f'/bigdata/casus/wdm/Bartek_H2/H128/snapshot{i}',\n",
    "        f'H_snapshot{i}.out.npy', '/bigdata/casus/wdm/Bartek_H2/H128/ldos/',\n",
    "        'te', calculation_output_file=f'/bigdata/casus/wdm/Bartek_H2/H128/outputs/snapshot{i}.out'\n",
    "    )\n",
    "\n",
    "data_handler.prepare_data(reparametrize_scaler=False)"
   ]
  },
  {
   "cell_type": "code",
   "execution_count": 3,
   "metadata": {},
   "outputs": [
    {
     "data": {
      "application/vnd.jupyter.widget-view+json": {
       "model_id": "a4c9a91351ed4d1493dc9c2c88b6c731",
       "version_major": 2,
       "version_minor": 0
      },
      "text/plain": [
       "  0%|          | 0/10000 [00:00<?, ?it/s]"
      ]
     },
     "metadata": {},
     "output_type": "display_data"
    },
    {
     "name": "stderr",
     "output_type": "stream",
     "text": [
      "/home/brzoza73/casus/mala-venv/lib/python3.8/site-packages/torch/utils/checkpoint.py:31: UserWarning: None of the inputs have requires_grad=True. Gradients will be None\n",
      "  warnings.warn(\"None of the inputs have requires_grad=True. Gradients will be None\")\n",
      "/home/brzoza73/casus/mala-venv/lib/python3.8/site-packages/dgl/backend/pytorch/tensor.py:445: UserWarning: TypedStorage is deprecated. It will be removed in the future and UntypedStorage will be the only storage class. This should only matter to you if you are using storages directly.  To access UntypedStorage directly, use tensor.untyped_storage() instead of tensor.storage()\n",
      "  assert input.numel() == input.storage().size(), (\n"
     ]
    },
    {
     "name": "stdout",
     "output_type": "stream",
     "text": [
      "Warning: Could not calculate observable band_energy\n",
      "Warning: Could not calculate observable band_energy_full\n",
      "Warning: No fermi energy was provided or could be calculated from electronic structure data. Using the DFT fermi energy, this may yield unexpected results\n",
      "Warning: No fermi energy was provided or could be calculated from electronic structure data. Using the DFT fermi energy, this may yield unexpected results\n",
      "Warning: Could not calculate observable total_energy\n",
      "Warning: Could not calculate observable total_energy_full\n",
      "Warning: Could not calculate observable density\n",
      "{'ldos': [0.008783927603911687], 'band_energy': [inf], 'band_energy_full': [inf], 'number_of_electrons': [-442.78248985367185], 'total_energy': [inf], 'total_energy_full': [inf], 'density': [inf], 'dos': [nan]}\n"
     ]
    },
    {
     "name": "stderr",
     "output_type": "stream",
     "text": [
      "/home/brzoza73/casus/mala/mala/network/tester_base.py:297: RuntimeWarning: divide by zero encountered in divide\n",
      "  return np.mean(np.abs((actual - predicted) / actual)) * 100\n",
      "/home/brzoza73/casus/mala/mala/network/tester_base.py:297: RuntimeWarning: invalid value encountered in divide\n",
      "  return np.mean(np.abs((actual - predicted) / actual)) * 100\n"
     ]
    }
   ],
   "source": [
    "network = network.to('cuda')\n",
    "observables_to_test = [\n",
    "    \"ldos\",\n",
    "    \"band_energy\",\n",
    "    \"band_energy_full\",\n",
    "    \"number_of_electrons\",\n",
    "    \"total_energy\",\n",
    "    \"total_energy_full\",\n",
    "    \"density\",\n",
    "    \"dos\"\n",
    "]\n",
    "tester.observables_to_test = observables_to_test\n",
    "results = tester.test_all_snapshots()\n",
    "print(results)"
   ]
  },
  {
   "cell_type": "code",
   "execution_count": null,
   "metadata": {},
   "outputs": [],
   "source": []
  }
 ],
 "metadata": {
  "kernelspec": {
   "display_name": "Python 3 (ipykernel)",
   "language": "python",
   "name": "python3"
  },
  "language_info": {
   "codemirror_mode": {
    "name": "ipython",
    "version": 3
   },
   "file_extension": ".py",
   "mimetype": "text/x-python",
   "name": "python",
   "nbconvert_exporter": "python",
   "pygments_lexer": "ipython3",
   "version": "3.8.0"
  },
  "orig_nbformat": 4
 },
 "nbformat": 4,
 "nbformat_minor": 2
}
