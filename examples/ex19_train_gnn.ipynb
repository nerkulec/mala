{
 "cells": [
  {
   "cell_type": "code",
   "execution_count": 1,
   "metadata": {},
   "outputs": [],
   "source": [
    "import os\n",
    "\n",
    "import mala\n",
    "from mala import printout\n",
    "from mala.network import TesterGraph\n",
    "\n",
    "import total_energy as te"
   ]
  },
  {
   "cell_type": "code",
   "execution_count": 2,
   "metadata": {},
   "outputs": [],
   "source": [
    "parameters = mala.Parameters()\n",
    "\n",
    "# Currently, the splitting in training, validation and test set are\n",
    "# done on a \"by snapshot\" basis.\n",
    "parameters.data.data_splitting_type = \"by_snapshot\"\n",
    "parameters.data.use_graph_data_set = True\n",
    "\n",
    "# Specify the training parameters.\n",
    "parameters.running.max_number_epochs = 1\n",
    "parameters.running.ldos_grid_batch_size = 200\n",
    "parameters.running.learning_rate = 0.00001\n",
    "parameters.running.trainingtype = \"Adam\"\n",
    "parameters.running.visualisation = 1\n",
    "\n",
    "\n",
    "parameters.targets.ldos_gridsize = 201\n",
    "parameters.targets.ldos_gridoffset_ev = -13.5\n",
    "parameters.targets.ldos_gridspacing_ev = 0.1\n",
    "parameters.targets.pseudopotential_path = \"/bigdata/casus/wdm/Bartek_H2/H128/H.pbe-rrkjus_psl.1.0.0.UPF\"\n",
    "\n",
    "parameters.verbosity = 1\n",
    "\n",
    "parameters.use_gpu = True"
   ]
  },
  {
   "cell_type": "code",
   "execution_count": 3,
   "metadata": {},
   "outputs": [
    {
     "name": "stdout",
     "output_type": "stream",
     "text": [
      "No data rescaling will be performed.\n",
      "No data rescaling will be performed.\n",
      "Checking the snapshots and your inputs for consistency.\n",
      "Consistency check successful.\n",
      "Data scalers already initilized, loading data to RAM.\n",
      "Build datasets.\n",
      "Build dataset: Done.\n"
     ]
    }
   ],
   "source": [
    "data_handler = mala.DataHandlerGraph(parameters)\n",
    "\n",
    "# for i in range(16):\n",
    "for i in range(1):\n",
    "    data_handler.add_snapshot(\n",
    "        f'H_snapshot{i}.pw.scf.in', f'/bigdata/casus/wdm/Bartek_H2/H128/snapshot{i}',\n",
    "        f'H_snapshot{i}.out.npy', '/bigdata/casus/wdm/Bartek_H2/H128/ldos/',\n",
    "        'tr', calculation_output_file=f'/bigdata/casus/wdm/Bartek_H2/H128/outputs/snapshot{i}.out'\n",
    "    )\n",
    "# for i in range(16, 18):\n",
    "for i in range(1, 2):\n",
    "    data_handler.add_snapshot(\n",
    "        f'H_snapshot{i}.pw.scf.in', f'/bigdata/casus/wdm/Bartek_H2/H128/snapshot{i}',\n",
    "        f'H_snapshot{i}.out.npy', '/bigdata/casus/wdm/Bartek_H2/H128/ldos/',\n",
    "        'va', calculation_output_file=f'/bigdata/casus/wdm/Bartek_H2/H128/outputs/snapshot{i}.out'\n",
    "    )\n",
    "\n",
    "data_handler.prepare_data(reparametrize_scaler=False)"
   ]
  },
  {
   "cell_type": "code",
   "execution_count": 4,
   "metadata": {},
   "outputs": [
    {
     "name": "stdout",
     "output_type": "stream",
     "text": [
      "Writing visualization output to ./mala_logging/2023-07-05-14-00-06\n",
      "Validating ldos on validation data set.\n"
     ]
    },
    {
     "name": "stderr",
     "output_type": "stream",
     "text": [
      "  0%|          | 0/2430 [00:00<?, ?it/s]/home/brzoza73/casus/mala-venv/lib/python3.8/site-packages/torch/utils/checkpoint.py:31: UserWarning: None of the inputs have requires_grad=True. Gradients will be None\n",
      "  warnings.warn(\"None of the inputs have requires_grad=True. Gradients will be None\")\n",
      "/home/brzoza73/casus/mala-venv/lib/python3.8/site-packages/dgl/backend/pytorch/tensor.py:445: UserWarning: TypedStorage is deprecated. It will be removed in the future and UntypedStorage will be the only storage class. This should only matter to you if you are using storages directly.  To access UntypedStorage directly, use tensor.untyped_storage() instead of tensor.storage()\n",
      "  assert input.numel() == input.storage().size(), (\n",
      "100%|██████████| 2430/2430 [00:43<00:00, 55.43it/s]\n"
     ]
    },
    {
     "name": "stdout",
     "output_type": "stream",
     "text": [
      "Initial Guess - validation data loss:  0.005103628135021822\n",
      "Validating ldos on validation data set.\n"
     ]
    },
    {
     "name": "stderr",
     "output_type": "stream",
     "text": [
      "100%|██████████| 2430/2430 [00:45<00:00, 53.38it/s]"
     ]
    },
    {
     "name": "stdout",
     "output_type": "stream",
     "text": [
      "Epoch 0: validation data loss: 0.001902268256670163\n",
      "Final validation data loss:  0.001902268256670163\n"
     ]
    },
    {
     "name": "stderr",
     "output_type": "stream",
     "text": [
      "\n"
     ]
    }
   ],
   "source": [
    "parameters.network.nn_type = \"se3_transformer\"\n",
    "parameters.network.layer_sizes = [\n",
    "    data_handler.input_dimension,\n",
    "    16,\n",
    "    data_handler.output_dimension\n",
    "]\n",
    "# Setup network and trainer.\n",
    "network = mala.Network(parameters)\n",
    "trainer = mala.TrainerGraph(parameters, network, data_handler)\n",
    "trainer.train_network()"
   ]
  },
  {
   "cell_type": "code",
   "execution_count": 5,
   "metadata": {},
   "outputs": [
    {
     "name": "stdout",
     "output_type": "stream",
     "text": [
      "No data rescaling will be performed.\n",
      "No data rescaling will be performed.\n",
      "Checking the snapshots and your inputs for consistency.\n",
      "DataHandler prepared for inference. No training possible with this setup. If this is not what you wanted, please revise the input script. Validation snapshots you may have entered willbe ignored.\n",
      "Consistency check successful.\n",
      "Build datasets.\n",
      "Build dataset: Done.\n"
     ]
    }
   ],
   "source": [
    "data_handler_test = mala.DataHandlerGraph(parameters)\n",
    "\n",
    "# for i in range(16):\n",
    "for i in range(2, 3):\n",
    "    data_handler.add_snapshot(\n",
    "        f'H_snapshot{i}.pw.scf.in', f'/bigdata/casus/wdm/Bartek_H2/H128/snapshot{i}',\n",
    "        f'H_snapshot{i}.out.npy', '/bigdata/casus/wdm/Bartek_H2/H128/ldos/',\n",
    "        'te', calculation_output_file=f'/bigdata/casus/wdm/Bartek_H2/H128/outputs/snapshot{i}.out'\n",
    "    )\n",
    "\n",
    "data_handler_test.prepare_data(reparametrize_scaler=False)\n"
   ]
  },
  {
   "cell_type": "code",
   "execution_count": 6,
   "metadata": {},
   "outputs": [
    {
     "name": "stderr",
     "output_type": "stream",
     "text": [
      "100%|██████████| 2430/2430 [00:46<00:00, 51.91it/s]\n"
     ]
    },
    {
     "name": "stdout",
     "output_type": "stream",
     "text": [
      "Warning: No fermi energy was provided or could be calculated from electronic structure data. Using the DFT fermi energy, this may yield unexpected results\n",
      "Warning: No fermi energy was provided or could be calculated from electronic structure data. Using the DFT fermi energy, this may yield unexpected results\n"
     ]
    },
    {
     "ename": "",
     "evalue": "",
     "output_type": "error",
     "traceback": [
      "\u001b[1;31mThe Kernel crashed while executing code in the the current cell or a previous cell. Please review the code in the cell(s) to identify a possible cause of the failure. Click <a href='https://aka.ms/vscodeJupyterKernelCrash'>here</a> for more info. View Jupyter <a href='command:jupyter.viewOutput'>log</a> for further details."
     ]
    },
    {
     "ename": "",
     "evalue": "",
     "output_type": "error",
     "traceback": [
      "\u001b[1;31mCanceled future for execute_request message before replies were done"
     ]
    }
   ],
   "source": [
    "network = network.to('cuda')\n",
    "observables_to_test = [\n",
    "  \"ldos\",\n",
    "  \"band_energy\",\n",
    "  \"band_energy_full\",\n",
    "  \"number_of_electrons\",\n",
    "  \"total_energy\",\n",
    "  \"total_energy_full\",\n",
    "  \"density\",\n",
    "  \"dos\"\n",
    "]\n",
    "\n",
    "tester = TesterGraph(parameters, network, data_handler_test, observables_to_test=observables_to_test)\n",
    "results = tester.test_all_snapshots()\n",
    "\n",
    "results"
   ]
  },
  {
   "cell_type": "code",
   "execution_count": null,
   "metadata": {},
   "outputs": [],
   "source": []
  },
  {
   "cell_type": "code",
   "execution_count": null,
   "metadata": {},
   "outputs": [],
   "source": []
  },
  {
   "cell_type": "code",
   "execution_count": null,
   "metadata": {},
   "outputs": [],
   "source": []
  },
  {
   "cell_type": "code",
   "execution_count": null,
   "metadata": {},
   "outputs": [],
   "source": []
  }
 ],
 "metadata": {
  "kernelspec": {
   "display_name": "Python 3 (ipykernel)",
   "language": "python",
   "name": "python3"
  },
  "language_info": {
   "codemirror_mode": {
    "name": "ipython",
    "version": 3
   },
   "file_extension": ".py",
   "mimetype": "text/x-python",
   "name": "python",
   "nbconvert_exporter": "python",
   "pygments_lexer": "ipython3",
   "version": "3.8.0"
  },
  "orig_nbformat": 4
 },
 "nbformat": 4,
 "nbformat_minor": 2
}
