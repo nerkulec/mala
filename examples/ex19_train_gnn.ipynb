{
 "cells": [
  {
   "cell_type": "code",
   "execution_count": 1,
   "metadata": {},
   "outputs": [
    {
     "data": {
      "text/plain": [
       "4"
      ]
     },
     "execution_count": 1,
     "metadata": {},
     "output_type": "execute_result"
    }
   ],
   "source": [
    "from torch.profiler import profile, record_function, ProfilerActivity\n",
    "import torch\n",
    "import total_energy as te\n",
    "from mala.network import TesterGraph\n",
    "from mala import printout\n",
    "import mala\n",
    "import os\n",
    "# set CUDA to highest debug mode\n",
    "# os.environ['CUDA_LAUNCH_BLOCKING'] = '1'\n",
    "\n",
    "torch.cuda.device_count()"
   ]
  },
  {
   "cell_type": "code",
   "execution_count": 2,
   "metadata": {},
   "outputs": [],
   "source": [
    "parameters = mala.Parameters()\n",
    "\n",
    "# Currently, the splitting in training, validation and test set are\n",
    "# done on a \"by snapshot\" basis.\n",
    "parameters.data.data_splitting_type = \"by_snapshot\"\n",
    "parameters.data.use_graph_data_set = True\n",
    "parameters.data.n_closest_ions = 8\n",
    "parameters.data.n_closest_ldos = 32\n",
    "\n",
    "# Specify the training parameters.\n",
    "parameters.running.max_number_epochs = 20\n",
    "parameters.running.ldos_grid_batch_size = 300\n",
    "# Doesn't make much sens with graphs\n",
    "# Maybe re-do how it works\n",
    "parameters.running.mini_batch_size = 1\n",
    "parameters.running.learning_rate_embedding = 0.01\n",
    "parameters.running.learning_rate = 0.0001\n",
    "parameters.running.trainingtype = \"Adam\"\n",
    "parameters.running.visualisation = 1\n",
    "parameters.running.weight_decay = 0.01\n",
    "\n",
    "# ! TODO: log magnitude of weights (separately for embedding layers and for the rest)\n",
    "\n",
    "\n",
    "parameters.targets.ldos_gridsize = 201\n",
    "parameters.targets.ldos_gridoffset_ev = -13.5\n",
    "parameters.targets.ldos_gridspacing_ev = 0.1\n",
    "parameters.targets.pseudopotential_path = \"/bigdata/casus/wdm/Bartek_H2/H128\"\n",
    "\n",
    "\n",
    "parameters.verbosity = 2\n",
    "\n",
    "parameters.use_gpu = True\n"
   ]
  },
  {
   "cell_type": "code",
   "execution_count": 3,
   "metadata": {},
   "outputs": [
    {
     "name": "stdout",
     "output_type": "stream",
     "text": [
      "No data rescaling will be performed.\n",
      "No data rescaling will be performed.\n",
      "Checking the snapshots and your inputs for consistency.\n",
      "Consistency check successful.\n",
      "Data scalers already initilized, loading data to RAM.\n",
      "Build datasets.\n",
      "Using GraphDataset.\n"
     ]
    },
    {
     "data": {
      "application/vnd.jupyter.widget-view+json": {
       "model_id": "1b1a1aac5cff4683b842fc6a839df45e",
       "version_major": 2,
       "version_minor": 0
      },
      "text/plain": [
       "  0%|          | 0/1 [00:00<?, ?it/s]"
      ]
     },
     "metadata": {},
     "output_type": "display_data"
    },
    {
     "data": {
      "application/vnd.jupyter.widget-view+json": {
       "model_id": "57f2056099d348e4b552286ef1496972",
       "version_major": 2,
       "version_minor": 0
      },
      "text/plain": [
       "  0%|          | 0/1000 [00:00<?, ?it/s]"
      ]
     },
     "metadata": {},
     "output_type": "display_data"
    },
    {
     "data": {
      "application/vnd.jupyter.widget-view+json": {
       "model_id": "2d2acdb19ce34641b05cb31a0a2c45a8",
       "version_major": 2,
       "version_minor": 0
      },
      "text/plain": [
       "  0%|          | 0/1 [00:00<?, ?it/s]"
      ]
     },
     "metadata": {},
     "output_type": "display_data"
    },
    {
     "data": {
      "application/vnd.jupyter.widget-view+json": {
       "model_id": "9645636c29db4c2ba3cad8d836458511",
       "version_major": 2,
       "version_minor": 0
      },
      "text/plain": [
       "  0%|          | 0/1000 [00:00<?, ?it/s]"
      ]
     },
     "metadata": {},
     "output_type": "display_data"
    },
    {
     "name": "stdout",
     "output_type": "stream",
     "text": [
      "Build dataset: Done.\n",
      "No data rescaling will be performed.\n",
      "No data rescaling will be performed.\n",
      "Checking the snapshots and your inputs for consistency.\n",
      "DataHandler prepared for inference. No training possible with this setup. If this is not what you wanted, please revise the input script. Validation snapshots you may have entered willbe ignored.\n",
      "Consistency check successful.\n",
      "Build datasets.\n",
      "Using GraphDataset.\n"
     ]
    },
    {
     "data": {
      "application/vnd.jupyter.widget-view+json": {
       "model_id": "6471e8855dc1442eaf55018413ddeffc",
       "version_major": 2,
       "version_minor": 0
      },
      "text/plain": [
       "  0%|          | 0/1 [00:00<?, ?it/s]"
      ]
     },
     "metadata": {},
     "output_type": "display_data"
    },
    {
     "data": {
      "application/vnd.jupyter.widget-view+json": {
       "model_id": "6c8bdbe9543f4c12b620d88e8ddc2e32",
       "version_major": 2,
       "version_minor": 0
      },
      "text/plain": [
       "  0%|          | 0/1000 [00:00<?, ?it/s]"
      ]
     },
     "metadata": {},
     "output_type": "display_data"
    },
    {
     "name": "stdout",
     "output_type": "stream",
     "text": [
      "Build dataset: Done.\n"
     ]
    }
   ],
   "source": [
    "# with profile(\n",
    "#     activities=[ProfilerActivity.CPU, ProfilerActivity.CUDA],\n",
    "#     record_shapes=True, profile_memory=True, with_stack=True,\n",
    "#     on_trace_ready=torch.profiler.tensorboard_trace_handler(\"./cuda_profile_tensorboard_logs_data_loading\"),\n",
    "# ) as prof:\n",
    "#     with record_function(\"data_loading\"):\n",
    "train_data_handler = mala.DataHandlerGraph(parameters)\n",
    "for i in range(1):\n",
    "    train_data_handler.add_snapshot(\n",
    "        f'H_snapshot{i}.pw.scf.in', f'/bigdata/casus/wdm/Bartek_H2/H128/snapshot{i}',\n",
    "        f'H_snapshot{i}.out.npy', '/bigdata/casus/wdm/Bartek_H2/H128/ldos/',\n",
    "        'tr', calculation_output_file=f'/bigdata/casus/wdm/Bartek_H2/H128/outputs/snapshot{i}.out'\n",
    "    )\n",
    "for i in range(1, 2):\n",
    "    train_data_handler.add_snapshot(\n",
    "        f'H_snapshot{i}.pw.scf.in', f'/bigdata/casus/wdm/Bartek_H2/H128/snapshot{i}',\n",
    "        f'H_snapshot{i}.out.npy', '/bigdata/casus/wdm/Bartek_H2/H128/ldos/',\n",
    "        'va', calculation_output_file=f'/bigdata/casus/wdm/Bartek_H2/H128/outputs/snapshot{i}.out'\n",
    "    )\n",
    "\n",
    "train_data_handler.prepare_data(reparametrize_scaler=False)\n",
    "\n",
    "test_data_handler = mala.DataHandlerGraph(parameters)\n",
    "for i in range(2, 3):\n",
    "    test_data_handler.add_snapshot(\n",
    "        f'H_snapshot{i}.pw.scf.in', f'/bigdata/casus/wdm/Bartek_H2/H128/snapshot{i}',\n",
    "        f'H_snapshot{i}.out.npy', '/bigdata/casus/wdm/Bartek_H2/H128/ldos/',\n",
    "        'te', calculation_output_file=f'/bigdata/casus/wdm/Bartek_H2/H128/outputs/snapshot{i}.out'\n",
    "    )\n",
    "\n",
    "test_data_handler.prepare_data(reparametrize_scaler=False)\n"
   ]
  },
  {
   "cell_type": "code",
   "execution_count": null,
   "metadata": {},
   "outputs": [],
   "source": [
    "parameters.network.nn_type = \"se3_transformer\"\n",
    "parameters.network.layer_sizes = [\n",
    "    train_data_handler.input_dimension,\n",
    "    32,\n",
    "    32,\n",
    "    32,\n",
    "    train_data_handler.output_dimension\n",
    "]\n",
    "# Setup network and trainer.\n",
    "network = mala.Network(parameters)\n",
    "trainer = mala.TrainerGraph(parameters, network, train_data_handler)\n",
    "trainer.train_network()\n",
    "print(\"Training finished!\")"
   ]
  },
  {
   "cell_type": "markdown",
   "metadata": {},
   "source": [
    "# aten::mm takes most of the memory"
   ]
  },
  {
   "cell_type": "code",
   "execution_count": null,
   "metadata": {},
   "outputs": [],
   "source": [
    "network = network.to('cuda')\n",
    "observables_to_test = [\n",
    "    \"ldos\",\n",
    "    \"band_energy\",\n",
    "    \"band_energy_full\",\n",
    "    \"number_of_electrons\",\n",
    "    \"total_energy\",\n",
    "    \"total_energy_full\",\n",
    "    \"density\",\n",
    "    \"dos\"\n",
    "]\n",
    "\n",
    "tester = TesterGraph(parameters, network, test_data_handler,\n",
    "                     observables_to_test=observables_to_test)\n",
    "\n",
    "results = tester.test_all_snapshots()\n",
    "\n",
    "print(results)\n"
   ]
  }
 ],
 "metadata": {
  "kernelspec": {
   "display_name": "Python 3 (ipykernel)",
   "language": "python",
   "name": "python3"
  },
  "orig_nbformat": 4
 },
 "nbformat": 4,
 "nbformat_minor": 2
}
