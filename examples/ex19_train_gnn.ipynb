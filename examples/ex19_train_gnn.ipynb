{
 "cells": [
  {
   "cell_type": "code",
   "execution_count": 1,
   "metadata": {},
   "outputs": [],
   "source": [
    "import os\n",
    "\n",
    "import mala\n",
    "from mala import printout\n",
    "from mala.network import TesterGraph"
   ]
  },
  {
   "cell_type": "code",
   "execution_count": 2,
   "metadata": {},
   "outputs": [],
   "source": [
    "parameters = mala.Parameters()\n",
    "\n",
    "# Currently, the splitting in training, validation and test set are\n",
    "# done on a \"by snapshot\" basis.\n",
    "parameters.data.data_splitting_type = \"by_snapshot\"\n",
    "parameters.data.use_graph_data_set = True\n",
    "\n",
    "# Specify the training parameters.\n",
    "parameters.running.max_number_epochs = 10\n",
    "parameters.running.ldos_grid_batch_size = 200\n",
    "parameters.running.learning_rate = 0.00001\n",
    "parameters.running.trainingtype = \"Adam\"\n",
    "parameters.running.visualisation = 1\n",
    "\n",
    "parameters.targets.ldos_gridsize = 201\n",
    "parameters.verbosity = 1\n",
    "\n",
    "parameters.use_gpu = True"
   ]
  },
  {
   "cell_type": "code",
   "execution_count": 3,
   "metadata": {},
   "outputs": [
    {
     "name": "stdout",
     "output_type": "stream",
     "text": [
      "No data rescaling will be performed.\n",
      "No data rescaling will be performed.\n"
     ]
    },
    {
     "ename": "AttributeError",
     "evalue": "'DataHandlerGraph' object has no attribute 'add_raw_snapshot'",
     "output_type": "error",
     "traceback": [
      "\u001b[0;31m---------------------------------------------------------------------------\u001b[0m",
      "\u001b[0;31mAttributeError\u001b[0m                            Traceback (most recent call last)",
      "Cell \u001b[0;32mIn[3], line 5\u001b[0m\n\u001b[1;32m      3\u001b[0m \u001b[39m# for i in range(16):\u001b[39;00m\n\u001b[1;32m      4\u001b[0m \u001b[39mfor\u001b[39;00m i \u001b[39min\u001b[39;00m \u001b[39mrange\u001b[39m(\u001b[39m1\u001b[39m):\n\u001b[0;32m----> 5\u001b[0m     data_handler\u001b[39m.\u001b[39;49madd_raw_snapshot(\n\u001b[1;32m      6\u001b[0m         \u001b[39mf\u001b[39m\u001b[39m'\u001b[39m\u001b[39m/bigdata/casus/wdm/Bartek_H2/H128/snapshot\u001b[39m\u001b[39m{\u001b[39;00mi\u001b[39m}\u001b[39;00m\u001b[39m/H_snapshot\u001b[39m\u001b[39m{\u001b[39;00mi\u001b[39m}\u001b[39;00m\u001b[39m.pw.scf.in\u001b[39m\u001b[39m'\u001b[39m,\n\u001b[1;32m      7\u001b[0m         \u001b[39mf\u001b[39m\u001b[39m'\u001b[39m\u001b[39m/bigdata/casus/wdm/Bartek_H2/H128/ldos/H_snapshot\u001b[39m\u001b[39m{\u001b[39;00mi\u001b[39m}\u001b[39;00m\u001b[39m.out.npy\u001b[39m\u001b[39m'\u001b[39m,\n\u001b[1;32m      8\u001b[0m         (\u001b[39m90\u001b[39m, \u001b[39m90\u001b[39m, \u001b[39m60\u001b[39m, \u001b[39m201\u001b[39m), \u001b[39m'\u001b[39m\u001b[39mtr\u001b[39m\u001b[39m'\u001b[39m\n\u001b[1;32m      9\u001b[0m     )\n\u001b[1;32m     10\u001b[0m \u001b[39m# for i in range(16, 18):\u001b[39;00m\n\u001b[1;32m     11\u001b[0m \u001b[39mfor\u001b[39;00m i \u001b[39min\u001b[39;00m \u001b[39mrange\u001b[39m(\u001b[39m1\u001b[39m, \u001b[39m2\u001b[39m):\n",
      "\u001b[0;31mAttributeError\u001b[0m: 'DataHandlerGraph' object has no attribute 'add_raw_snapshot'"
     ]
    }
   ],
   "source": [
    "data_handler = mala.DataHandlerGraph(parameters)\n",
    "\n",
    "# for i in range(16):\n",
    "for i in range(1):\n",
    "    data_handler.add_raw_snapshot(\n",
    "        f'/bigdata/casus/wdm/Bartek_H2/H128/snapshot{i}/H_snapshot{i}.pw.scf.in',\n",
    "        f'/bigdata/casus/wdm/Bartek_H2/H128/ldos/H_snapshot{i}.out.npy',\n",
    "        (90, 90, 60, 201), 'tr'\n",
    "    )\n",
    "# for i in range(16, 18):\n",
    "for i in range(1, 2):\n",
    "    data_handler.add_raw_snapshot(\n",
    "        f'/bigdata/casus/wdm/Bartek_H2/H128/snapshot{i}/H_snapshot{i}.pw.scf.in',\n",
    "        f'/bigdata/casus/wdm/Bartek_H2/H128/ldos/H_snapshot{i}.out.npy',\n",
    "        (90, 90, 60, 201), 'va'\n",
    "    )\n",
    "\n",
    "data_handler.prepare_data(reparametrize_scaler=False)"
   ]
  },
  {
   "cell_type": "code",
   "execution_count": null,
   "metadata": {},
   "outputs": [
    {
     "name": "stdout",
     "output_type": "stream",
     "text": [
      "Writing visualization output to ./mala_logging/2023-05-30-19-01-11\n",
      "Validating ldos on validation data set.\n"
     ]
    },
    {
     "name": "stderr",
     "output_type": "stream",
     "text": [
      "  0%|          | 0/2430 [00:00<?, ?it/s]/home/brzoza73/casus/mala-venv/lib/python3.8/site-packages/torch/utils/checkpoint.py:31: UserWarning: None of the inputs have requires_grad=True. Gradients will be None\n",
      "  warnings.warn(\"None of the inputs have requires_grad=True. Gradients will be None\")\n",
      "/home/brzoza73/casus/mala-venv/lib/python3.8/site-packages/dgl/backend/pytorch/tensor.py:445: UserWarning: TypedStorage is deprecated. It will be removed in the future and UntypedStorage will be the only storage class. This should only matter to you if you are using storages directly.  To access UntypedStorage directly, use tensor.untyped_storage() instead of tensor.storage()\n",
      "  assert input.numel() == input.storage().size(), (\n",
      "100%|██████████| 2430/2430 [00:31<00:00, 76.65it/s]\n"
     ]
    },
    {
     "name": "stdout",
     "output_type": "stream",
     "text": [
      "Initial Guess - validation data loss:  0.009408645472899387\n",
      "Validating ldos on validation data set.\n"
     ]
    },
    {
     "name": "stderr",
     "output_type": "stream",
     "text": [
      "100%|██████████| 2430/2430 [00:30<00:00, 78.70it/s]\n"
     ]
    },
    {
     "name": "stdout",
     "output_type": "stream",
     "text": [
      "Epoch 0: validation data loss: 0.002713410452069569\n",
      "Validating ldos on validation data set.\n"
     ]
    },
    {
     "name": "stderr",
     "output_type": "stream",
     "text": [
      "100%|██████████| 2430/2430 [00:30<00:00, 78.68it/s]\n"
     ]
    },
    {
     "name": "stdout",
     "output_type": "stream",
     "text": [
      "Epoch 1: validation data loss: 0.0012407579539734641\n",
      "Validating ldos on validation data set.\n"
     ]
    },
    {
     "name": "stderr",
     "output_type": "stream",
     "text": [
      "100%|██████████| 2430/2430 [00:30<00:00, 78.64it/s]\n"
     ]
    },
    {
     "name": "stdout",
     "output_type": "stream",
     "text": [
      "Epoch 2: validation data loss: 0.0008130412533450029\n",
      "Validating ldos on validation data set.\n"
     ]
    },
    {
     "name": "stderr",
     "output_type": "stream",
     "text": [
      "100%|██████████| 2430/2430 [00:30<00:00, 78.64it/s]\n"
     ]
    },
    {
     "name": "stdout",
     "output_type": "stream",
     "text": [
      "Epoch 3: validation data loss: 0.0007088936895990568\n",
      "Validating ldos on validation data set.\n"
     ]
    },
    {
     "name": "stderr",
     "output_type": "stream",
     "text": [
      "100%|██████████| 2430/2430 [00:30<00:00, 78.78it/s]\n"
     ]
    },
    {
     "name": "stdout",
     "output_type": "stream",
     "text": [
      "Epoch 4: validation data loss: 0.0006879134433259689\n",
      "Validating ldos on validation data set.\n"
     ]
    },
    {
     "name": "stderr",
     "output_type": "stream",
     "text": [
      "100%|██████████| 2430/2430 [00:30<00:00, 78.69it/s]\n"
     ]
    },
    {
     "name": "stdout",
     "output_type": "stream",
     "text": [
      "Epoch 5: validation data loss: 0.0006845794096895696\n",
      "Validating ldos on validation data set.\n"
     ]
    },
    {
     "name": "stderr",
     "output_type": "stream",
     "text": [
      "100%|██████████| 2430/2430 [00:30<00:00, 78.68it/s]\n"
     ]
    },
    {
     "name": "stdout",
     "output_type": "stream",
     "text": [
      "Epoch 6: validation data loss: 0.0006832967569798599\n",
      "Validating ldos on validation data set.\n"
     ]
    },
    {
     "name": "stderr",
     "output_type": "stream",
     "text": [
      "100%|██████████| 2430/2430 [00:30<00:00, 78.85it/s]\n"
     ]
    },
    {
     "name": "stdout",
     "output_type": "stream",
     "text": [
      "Epoch 7: validation data loss: 0.0006849766758734307\n",
      "Validating ldos on validation data set.\n"
     ]
    },
    {
     "name": "stderr",
     "output_type": "stream",
     "text": [
      "100%|██████████| 2430/2430 [00:30<00:00, 78.69it/s]\n"
     ]
    },
    {
     "name": "stdout",
     "output_type": "stream",
     "text": [
      "Epoch 8: validation data loss: 0.0006834000716974706\n",
      "Validating ldos on validation data set.\n"
     ]
    },
    {
     "name": "stderr",
     "output_type": "stream",
     "text": [
      "100%|██████████| 2430/2430 [00:30<00:00, 78.83it/s]"
     ]
    },
    {
     "name": "stdout",
     "output_type": "stream",
     "text": [
      "Epoch 9: validation data loss: 0.000685942025832188\n",
      "Final validation data loss:  0.000685942025832188\n"
     ]
    },
    {
     "name": "stderr",
     "output_type": "stream",
     "text": [
      "\n"
     ]
    }
   ],
   "source": [
    "parameters.network.nn_type = \"se3_transformer\"\n",
    "parameters.network.layer_sizes = [\n",
    "    data_handler.input_dimension,\n",
    "    16,\n",
    "    data_handler.output_dimension\n",
    "]\n",
    "# Setup network and trainer.\n",
    "network = mala.Network(parameters)\n",
    "trainer = mala.TrainerGraph(parameters, network, data_handler)\n",
    "trainer.train_network()"
   ]
  },
  {
   "cell_type": "code",
   "execution_count": 7,
   "metadata": {},
   "outputs": [
    {
     "name": "stdout",
     "output_type": "stream",
     "text": [
      "No data rescaling will be performed.\n",
      "No data rescaling will be performed.\n",
      "Checking the snapshots and your inputs for consistency.\n",
      "DataHandler prepared for inference. No training possible with this setup. If this is not what you wanted, please revise the input script. Validation snapshots you may have entered willbe ignored.\n",
      "Consistency check successful.\n",
      "Build datasets.\n",
      "Build dataset: Done.\n"
     ]
    }
   ],
   "source": [
    "data_handler_test = mala.DataHandlerGraph(parameters)\n",
    "\n",
    "# for i in range(16):\n",
    "for i in range(2, 3):\n",
    "    data_handler_test.add_raw_snapshot(\n",
    "        f'/bigdata/casus/wdm/Bartek_H2/H128/snapshot{i}/H_snapshot{i}.pw.scf.in',\n",
    "        f'/bigdata/casus/wdm/Bartek_H2/H128/ldos/H_snapshot{i}.out.npy',\n",
    "        (90, 90, 60, 201), 'te'\n",
    "    )\n",
    "\n",
    "data_handler_test.prepare_data(reparametrize_scaler=False)\n"
   ]
  },
  {
   "cell_type": "code",
   "execution_count": 9,
   "metadata": {},
   "outputs": [
    {
     "name": "stderr",
     "output_type": "stream",
     "text": [
      "100%|██████████| 2430/2430 [00:51<00:00, 47.63it/s]\n"
     ]
    },
    {
     "ename": "IndexError",
     "evalue": "list index out of range",
     "output_type": "error",
     "traceback": [
      "\u001b[0;31m---------------------------------------------------------------------------\u001b[0m",
      "\u001b[0;31mIndexError\u001b[0m                                Traceback (most recent call last)",
      "Cell \u001b[0;32mIn[9], line 14\u001b[0m\n\u001b[1;32m      2\u001b[0m observables_to_test \u001b[39m=\u001b[39m [\n\u001b[1;32m      3\u001b[0m   \u001b[39m\"\u001b[39m\u001b[39mldos\u001b[39m\u001b[39m\"\u001b[39m,\n\u001b[1;32m      4\u001b[0m   \u001b[39m\"\u001b[39m\u001b[39mband_energy\u001b[39m\u001b[39m\"\u001b[39m,\n\u001b[0;32m   (...)\u001b[0m\n\u001b[1;32m     10\u001b[0m   \u001b[39m\"\u001b[39m\u001b[39mdos\u001b[39m\u001b[39m\"\u001b[39m\n\u001b[1;32m     11\u001b[0m ]\n\u001b[1;32m     13\u001b[0m tester \u001b[39m=\u001b[39m TesterGraph(parameters, network, data_handler_test, observables_to_test\u001b[39m=\u001b[39mobservables_to_test)\n\u001b[0;32m---> 14\u001b[0m tester\u001b[39m.\u001b[39;49mtest_all_snapshots()\n",
      "File \u001b[0;32m~/casus/mala/mala/network/tester_base.py:80\u001b[0m, in \u001b[0;36mTesterBase.test_all_snapshots\u001b[0;34m(self)\u001b[0m\n\u001b[1;32m     77\u001b[0m     results[observable] \u001b[39m=\u001b[39m []\n\u001b[1;32m     79\u001b[0m \u001b[39mfor\u001b[39;00m i \u001b[39min\u001b[39;00m \u001b[39mrange\u001b[39m(\u001b[39m0\u001b[39m, \u001b[39mself\u001b[39m\u001b[39m.\u001b[39mdata\u001b[39m.\u001b[39mnr_test_snapshots):\n\u001b[0;32m---> 80\u001b[0m     snapshot_result \u001b[39m=\u001b[39m \u001b[39mself\u001b[39;49m\u001b[39m.\u001b[39;49mtest_snapshot(i)\n\u001b[1;32m     81\u001b[0m     \u001b[39mfor\u001b[39;00m observable \u001b[39min\u001b[39;00m \u001b[39mself\u001b[39m\u001b[39m.\u001b[39mobservables_to_test:\n\u001b[1;32m     82\u001b[0m         results[observable]\u001b[39m.\u001b[39mappend(snapshot_result[observable])\n",
      "File \u001b[0;32m~/casus/mala/mala/network/tester_base.py:118\u001b[0m, in \u001b[0;36mTesterBase.test_snapshot\u001b[0;34m(self, snapshot_number, data_type)\u001b[0m\n\u001b[1;32m    116\u001b[0m results \u001b[39m=\u001b[39m {}\n\u001b[1;32m    117\u001b[0m \u001b[39mfor\u001b[39;00m observable \u001b[39min\u001b[39;00m \u001b[39mself\u001b[39m\u001b[39m.\u001b[39mobservables_to_test:\n\u001b[0;32m--> 118\u001b[0m     results[observable] \u001b[39m=\u001b[39m \u001b[39mself\u001b[39;49m\u001b[39m.\u001b[39;49m\\\n\u001b[1;32m    119\u001b[0m         __calculate_observable_error(snapshot_number,\n\u001b[1;32m    120\u001b[0m                                      observable, predicted_outputs,\n\u001b[1;32m    121\u001b[0m                                      actual_outputs)\n\u001b[1;32m    122\u001b[0m \u001b[39mreturn\u001b[39;00m results\n",
      "File \u001b[0;32m~/casus/mala/mala/network/tester_base.py:182\u001b[0m, in \u001b[0;36mTesterBase.__calculate_observable_error\u001b[0;34m(self, snapshot_number, observable, predicted_target, actual_target)\u001b[0m\n\u001b[1;32m    176\u001b[0m \u001b[39mif\u001b[39;00m \u001b[39mnot\u001b[39;00m \u001b[39misinstance\u001b[39m(target_calculator, LDOS) \u001b[39mand\u001b[39;00m \u001b[39mnot\u001b[39;00m \\\n\u001b[1;32m    177\u001b[0m         \u001b[39misinstance\u001b[39m(target_calculator, DOS):\n\u001b[1;32m    178\u001b[0m     \u001b[39mraise\u001b[39;00m \u001b[39mException\u001b[39;00m(\u001b[39m\"\u001b[39m\u001b[39mCannot calculate the band energy from this \u001b[39m\u001b[39m\"\u001b[39m\n\u001b[1;32m    179\u001b[0m                     \u001b[39m\"\u001b[39m\u001b[39mobservable.\u001b[39m\u001b[39m\"\u001b[39m)\n\u001b[1;32m    180\u001b[0m target_calculator\u001b[39m.\u001b[39m\\\n\u001b[1;32m    181\u001b[0m     read_additional_calculation_data(\n\u001b[0;32m--> 182\u001b[0m     \u001b[39mself\u001b[39;49m\u001b[39m.\u001b[39;49mdata\u001b[39m.\u001b[39;49mget_snapshot_calculation_output(snapshot_number))\n\u001b[1;32m    184\u001b[0m target_calculator\u001b[39m.\u001b[39mread_from_array(actual_target)\n\u001b[1;32m    185\u001b[0m actual \u001b[39m=\u001b[39m target_calculator\u001b[39m.\u001b[39mband_energy\n",
      "File \u001b[0;32m~/casus/mala/mala/datahandling/data_handler_graph.py:303\u001b[0m, in \u001b[0;36mDataHandlerGraph.get_snapshot_calculation_output\u001b[0;34m(self, snapshot_number)\u001b[0m\n\u001b[1;32m    288\u001b[0m \u001b[39mdef\u001b[39;00m \u001b[39mget_snapshot_calculation_output\u001b[39m(\u001b[39mself\u001b[39m, snapshot_number):\n\u001b[1;32m    289\u001b[0m \u001b[39m    \u001b[39m\u001b[39m\"\"\"\u001b[39;00m\n\u001b[1;32m    290\u001b[0m \u001b[39m    Get the path to the output file for a specific snapshot.\u001b[39;00m\n\u001b[1;32m    291\u001b[0m \n\u001b[0;32m   (...)\u001b[0m\n\u001b[1;32m    301\u001b[0m \n\u001b[1;32m    302\u001b[0m \u001b[39m    \"\"\"\u001b[39;00m\n\u001b[0;32m--> 303\u001b[0m     \u001b[39mreturn\u001b[39;00m \u001b[39mself\u001b[39;49m\u001b[39m.\u001b[39;49mparameters\u001b[39m.\u001b[39;49msnapshot_directories_list[snapshot_number]\u001b[39m.\u001b[39m\\\n\u001b[1;32m    304\u001b[0m         calculation_output\n",
      "\u001b[0;31mIndexError\u001b[0m: list index out of range"
     ]
    }
   ],
   "source": [
    "network = network.to('cuda')\n",
    "observables_to_test = [\n",
    "  \"ldos\",\n",
    "  \"band_energy\",\n",
    "  \"band_energy_full\",\n",
    "  \"number_of_electrons\",\n",
    "  \"total_energy\",\n",
    "  \"total_energy_full\",\n",
    "  \"density\",\n",
    "  \"dos\"\n",
    "]\n",
    "\n",
    "tester = TesterGraph(parameters, network, data_handler_test, observables_to_test=observables_to_test)\n",
    "tester.test_all_snapshots()\n",
    "\n",
    "# have to input somethin into\n",
    "# tester.parameters.snapshot_directories_list"
   ]
  },
  {
   "cell_type": "code",
   "execution_count": 11,
   "metadata": {},
   "outputs": [],
   "source": [
    "trainer.save_run(\"H2_model\")"
   ]
  },
  {
   "cell_type": "code",
   "execution_count": 2,
   "metadata": {},
   "outputs": [
    {
     "name": "stdout",
     "output_type": "stream",
     "text": [
      "|===========================================================================|\n",
      "|                  PyTorch CUDA memory summary, device ID 0                 |\n",
      "|---------------------------------------------------------------------------|\n",
      "|            CUDA OOMs: 0            |        cudaMalloc retries: 0         |\n",
      "|===========================================================================|\n",
      "|        Metric         | Cur Usage  | Peak Usage | Tot Alloc  | Tot Freed  |\n",
      "|---------------------------------------------------------------------------|\n",
      "| Allocated memory      |      0 B   |      0 B   |      0 B   |      0 B   |\n",
      "|       from large pool |      0 B   |      0 B   |      0 B   |      0 B   |\n",
      "|       from small pool |      0 B   |      0 B   |      0 B   |      0 B   |\n",
      "|---------------------------------------------------------------------------|\n",
      "| Active memory         |      0 B   |      0 B   |      0 B   |      0 B   |\n",
      "|       from large pool |      0 B   |      0 B   |      0 B   |      0 B   |\n",
      "|       from small pool |      0 B   |      0 B   |      0 B   |      0 B   |\n",
      "|---------------------------------------------------------------------------|\n",
      "| Requested memory      |      0 B   |      0 B   |      0 B   |      0 B   |\n",
      "|       from large pool |      0 B   |      0 B   |      0 B   |      0 B   |\n",
      "|       from small pool |      0 B   |      0 B   |      0 B   |      0 B   |\n",
      "|---------------------------------------------------------------------------|\n",
      "| GPU reserved memory   |      0 B   |      0 B   |      0 B   |      0 B   |\n",
      "|       from large pool |      0 B   |      0 B   |      0 B   |      0 B   |\n",
      "|       from small pool |      0 B   |      0 B   |      0 B   |      0 B   |\n",
      "|---------------------------------------------------------------------------|\n",
      "| Non-releasable memory |      0 B   |      0 B   |      0 B   |      0 B   |\n",
      "|       from large pool |      0 B   |      0 B   |      0 B   |      0 B   |\n",
      "|       from small pool |      0 B   |      0 B   |      0 B   |      0 B   |\n",
      "|---------------------------------------------------------------------------|\n",
      "| Allocations           |       0    |       0    |       0    |       0    |\n",
      "|       from large pool |       0    |       0    |       0    |       0    |\n",
      "|       from small pool |       0    |       0    |       0    |       0    |\n",
      "|---------------------------------------------------------------------------|\n",
      "| Active allocs         |       0    |       0    |       0    |       0    |\n",
      "|       from large pool |       0    |       0    |       0    |       0    |\n",
      "|       from small pool |       0    |       0    |       0    |       0    |\n",
      "|---------------------------------------------------------------------------|\n",
      "| GPU reserved segments |       0    |       0    |       0    |       0    |\n",
      "|       from large pool |       0    |       0    |       0    |       0    |\n",
      "|       from small pool |       0    |       0    |       0    |       0    |\n",
      "|---------------------------------------------------------------------------|\n",
      "| Non-releasable allocs |       0    |       0    |       0    |       0    |\n",
      "|       from large pool |       0    |       0    |       0    |       0    |\n",
      "|       from small pool |       0    |       0    |       0    |       0    |\n",
      "|---------------------------------------------------------------------------|\n",
      "| Oversize allocations  |       0    |       0    |       0    |       0    |\n",
      "|---------------------------------------------------------------------------|\n",
      "| Oversize GPU segments |       0    |       0    |       0    |       0    |\n",
      "|===========================================================================|\n",
      "\n"
     ]
    }
   ],
   "source": [
    "import torch\n",
    "print(torch.cuda.memory_summary())"
   ]
  },
  {
   "cell_type": "code",
   "execution_count": null,
   "metadata": {},
   "outputs": [],
   "source": []
  },
  {
   "cell_type": "code",
   "execution_count": null,
   "metadata": {},
   "outputs": [],
   "source": []
  },
  {
   "cell_type": "code",
   "execution_count": null,
   "metadata": {},
   "outputs": [],
   "source": []
  },
  {
   "cell_type": "code",
   "execution_count": null,
   "metadata": {},
   "outputs": [],
   "source": []
  }
 ],
 "metadata": {
  "kernelspec": {
   "display_name": "Python 3 (ipykernel)",
   "language": "python",
   "name": "python3"
  },
  "language_info": {
   "codemirror_mode": {
    "name": "ipython",
    "version": 3
   },
   "file_extension": ".py",
   "mimetype": "text/x-python",
   "name": "python",
   "nbconvert_exporter": "python",
   "pygments_lexer": "ipython3",
   "version": "3.8.0"
  },
  "orig_nbformat": 4
 },
 "nbformat": 4,
 "nbformat_minor": 2
}
